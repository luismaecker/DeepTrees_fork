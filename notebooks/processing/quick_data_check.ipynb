{
 "cells": [
  {
   "cell_type": "code",
   "execution_count": 1,
   "id": "48b94410-bfd1-41ee-976a-605723d984f8",
   "metadata": {},
   "outputs": [],
   "source": [
    "from matplotlib import pyplot as plt\n",
    "from matplotlib import patches\n",
    "import rasterio\n",
    "from rasterio.plot import show as rastershow\n",
    "\n",
    "import numpy as np\n",
    "import pandas as pd\n",
    "import os\n",
    "import glob\n",
    "\n",
    "import geopandas as gpd\n",
    "\n",
    "from shapely.geometry import Point, Polygon"
   ]
  },
  {
   "cell_type": "markdown",
   "id": "29283188-ce55-4a0e-9994-b351f5a8859d",
   "metadata": {},
   "source": [
    "## Quick check for processed data\n",
    "\n",
    "After running the preprocessing script, run this notebook for a quick sanity check of the processed outputs.\n",
    "\n",
    "All data is located in `/work/ka1176/shared_data/2024-ufz-deeptree/polygon-labelling/`.\n",
    "\n",
    "These are all the labeled tiles:"
   ]
  },
  {
   "cell_type": "code",
   "execution_count": 2,
   "id": "e63fe84d-2ac5-47fc-98fe-5383944230cc",
   "metadata": {},
   "outputs": [],
   "source": [
    "shapes = np.sort(glob.glob('/work/ka1176/shared_data/2024-ufz-deeptree/polygon-labelling/labels/label_tile_*.shp'))"
   ]
  },
  {
   "cell_type": "code",
   "execution_count": null,
   "id": "a8824991-1b18-4b23-8cd2-4cb5664a25fe",
   "metadata": {},
   "outputs": [],
   "source": [
    "shapes"
   ]
  },
  {
   "cell_type": "code",
   "execution_count": null,
   "id": "1993ab5b-f5d2-435b-99c6-f20a7cc27381",
   "metadata": {},
   "outputs": [],
   "source": [
    "print(f'Number of available shape files for tiles: {len(shapes)}')"
   ]
  },
  {
   "cell_type": "markdown",
   "id": "b76d7607-dd8e-4b11-b0c9-e07d2b726531",
   "metadata": {},
   "source": [
    "We process one of the label files and check the coordinate reference system (CRS). The label files need to be cast to the same CRS as the raster images. They are given in `EPSG:4326` and are now cast to `EPSG:25832`."
   ]
  },
  {
   "cell_type": "code",
   "execution_count": 5,
   "id": "e7fa4c1d-a38d-43dd-b5a1-c8a4ca3de135",
   "metadata": {},
   "outputs": [],
   "source": [
    "polygons = gpd.read_file('/work/ka1176/shared_data/2024-ufz-deeptree/polygon-labelling/labels/label_tile_1_1.shp')\n",
    "polygons.crs"
   ]
  },
  {
   "cell_type": "code",
   "execution_count": null,
   "id": "98fa6d3d-f316-499b-8f99-c5a7cef3bda2",
   "metadata": {},
   "outputs": [],
   "source": [
    "polygons"
   ]
  },
  {
   "cell_type": "code",
   "execution_count": null,
   "id": "8314c92f-c5c5-4f7f-8bcb-1f2db875b557",
   "metadata": {},
   "outputs": [],
   "source": [
    "rastertif = rasterio.open(os.path.join('/work/ka1176/shared_data/2024-ufz-deeptree/polygon-labelling/', 'tiles', 'tile_0_1.tif'))\n",
    "rastertif.crs"
   ]
  },
  {
   "cell_type": "code",
   "execution_count": null,
   "id": "47e5e996-c814-433e-bb1b-d8c4fdcf8ec5",
   "metadata": {},
   "outputs": [],
   "source": [
    "for shape in shapes:\n",
    "    print(gpd.read_file(shape).crs)"
   ]
  },
  {
   "cell_type": "code",
   "execution_count": null,
   "id": "e06306b0-1a74-449d-9673-453d9e1d9adb",
   "metadata": {},
   "outputs": [],
   "source": [
    "polygons = polygons.set_crs(epsg=4326) # needed this explicitly\n",
    "polygons = polygons.to_crs(epsg=25832)\n",
    "polygons.crs"
   ]
  },
  {
   "cell_type": "markdown",
   "id": "5f1f5801-d280-4924-894c-c0585b7911e4",
   "metadata": {},
   "source": [
    "For preprocessing and plots, we need all polygons combined in one file. This is created here and saved in `/work/ka1176/shared_data/2024-ufz-deeptree/polygon-labelling/labels/all_labels.shp`."
   ]
  },
  {
   "cell_type": "code",
   "execution_count": 10,
   "id": "46b0872c-8715-46a0-a30b-dc332eec8abc",
   "metadata": {},
   "outputs": [],
   "source": [
    "def fix_crs(shape, is_crs=4326, target_crs=25832):\n",
    "    '''Fix the CRS if necessary'''\n",
    "    if shape.crs is None: # naive coords\n",
    "        shape.crs = is_crs\n",
    "\n",
    "    return shape.to_crs(epsg=target_crs)"
   ]
  },
  {
   "cell_type": "code",
   "execution_count": 11,
   "id": "c3bf27da-de78-4a03-ba36-db0fbd6a398b",
   "metadata": {},
   "outputs": [],
   "source": [
    "all_polygons = pd.concat([fix_crs(gpd.read_file(shape)).assign(tile=shape) for shape in shapes])\n",
    "all_polygons.drop(columns='tile').to_file('/work/ka1176/shared_data/2024-ufz-deeptree/polygon-labelling/labels/all_labels_class0-2.shp')"
   ]
  },
  {
   "cell_type": "code",
   "execution_count": 12,
   "id": "88b610f4-7f9e-4649-8d1d-15f32c074587",
   "metadata": {},
   "outputs": [],
   "source": [
    "all_polygons = all_polygons[all_polygons['class'] < 2]\n",
    "all_polygons.drop(columns='tile').to_file('/work/ka1176/shared_data/2024-ufz-deeptree/polygon-labelling/labels/all_labels.shp')"
   ]
  },
  {
   "cell_type": "code",
   "execution_count": null,
   "id": "c0cfca33-5cd7-4342-a44a-e847b9c28784",
   "metadata": {},
   "outputs": [],
   "source": [
    "all_polygons.head()"
   ]
  },
  {
   "cell_type": "markdown",
   "id": "9a25c8f7-5e1d-457d-85a2-6d2e5d1e28f3",
   "metadata": {},
   "source": [
    "### Check the preprocessed raster files\n",
    "\n",
    "We are starting with \n",
    "- tiles\n",
    "- labels\n",
    "\n",
    "In preprocessing, we created\n",
    "- masks\n",
    "- outlines\n",
    "- distance transforms"
   ]
  },
  {
   "cell_type": "code",
   "execution_count": 14,
   "id": "2b6d27b3-6420-4a67-8ea2-2940dca29071",
   "metadata": {},
   "outputs": [],
   "source": [
    "tiles = [shape.replace('labels/', 'tiles/').replace('label_', '').replace('.shp', '.tif') for shape in shapes]\n",
    "masks = [shape.replace('labels/', 'masks/').replace('label_tile_', 'mask_').replace('.shp', '.tif') for shape in shapes]\n",
    "outlines = [shape.replace('labels/', 'outlines/').replace('label_tile_', 'outline_').replace('.shp', '.tif') for shape in shapes]\n",
    "distance_transforms = [shape.replace('labels/', 'dist_trafo/').replace('label_tile_', 'dist_trafo_').replace('.shp', '.tif') for shape in shapes]"
   ]
  },
  {
   "cell_type": "code",
   "execution_count": 15,
   "id": "3e2d4eb0-d503-4917-b01b-bcf6d7d0fdba",
   "metadata": {},
   "outputs": [],
   "source": [
    "all_rastertifs = [rasterio.open(tile) for tile in tiles]\n",
    "all_bounds = [rastertif.bounds for rastertif in all_rastertifs]\n",
    "all_extents = [(b.left, b.bottom, b.right, b.top) for b in all_bounds]"
   ]
  },
  {
   "cell_type": "code",
   "execution_count": null,
   "id": "a6316729-854c-4189-9cdf-f8a791ea9979",
   "metadata": {},
   "outputs": [],
   "source": [
    "fig, ax = plt.subplots(1, 1, figsize=(10, 6))\n",
    "# add original tiles\n",
    "for rastertif in all_rastertifs:\n",
    "    rastershow(rastertif, ax=ax)\n",
    "\n",
    "# add bounding boxes to display\n",
    "for extent in all_extents:\n",
    "    rc = patches.Rectangle((extent[0], extent[1]), extent[2]-extent[0], extent[3]-extent[1],\n",
    "                           lw=2, fc='none', ec='lightgray',\n",
    "                          )\n",
    "    ax.add_patch(rc)"
   ]
  },
  {
   "cell_type": "markdown",
   "id": "72857175-dfba-4242-b467-d2f52cbf5f02",
   "metadata": {},
   "source": [
    "#### Sanity check for masks\n",
    "\n",
    "The following plot shows all the labeled tiles (RGB images) and the labeled polygons (cyan). The masks are overlayed in blue.\n",
    "\n",
    "The cyan outlines should match the masks."
   ]
  },
  {
   "cell_type": "code",
   "execution_count": null,
   "id": "548d04cf-3783-438b-beca-7e10610ac3e5",
   "metadata": {},
   "outputs": [],
   "source": [
    "fig, ax = plt.subplots(1, 1, figsize=(10, 6))\n",
    "# add original tiles\n",
    "for rastertif in all_rastertifs:\n",
    "    rastershow(rastertif, ax=ax)\n",
    "    break\n",
    "\n",
    "# all labeled polygons\n",
    "all_polygons.plot(column='class', ax=ax, facecolor='none', cmap='jet', legend=True)\n",
    "\n",
    "# check if mask is correct\n",
    "for mask in masks:\n",
    "    rastershow(rasterio.open(mask), ax=ax, alpha=0.35, cmap='Blues_r', with_bounds=True)\n",
    "    break\n",
    "\n",
    "# add bounding boxes to display\n",
    "for extent in all_extents:\n",
    "    rc = patches.Rectangle((extent[0], extent[1]), extent[2]-extent[0], extent[3]-extent[1],\n",
    "                           lw=2, fc='none', ec='lightgray',\n",
    "                          )\n",
    "    ax.add_patch(rc)\n",
    "\n",
    "ax.legend()"
   ]
  },
  {
   "cell_type": "code",
   "execution_count": 27,
   "id": "27139e94-19ec-4359-817c-53deac129df0",
   "metadata": {},
   "outputs": [
    {
     "data": {
      "text/plain": [
       "12"
      ]
     },
     "execution_count": 27,
     "metadata": {},
     "output_type": "execute_result"
    }
   ],
   "source": [
    "len(all_rastertifs)"
   ]
  },
  {
   "cell_type": "code",
   "execution_count": null,
   "id": "6a05031a-00d8-42d6-8b29-e6e215fa1d96",
   "metadata": {},
   "outputs": [],
   "source": [
    "fig, axs = plt.subplots(3, 4, figsize=(20, 12))\n",
    "axs = axs.flatten()\n",
    "\n",
    "# add original tiles\n",
    "for rastertif, mask, ax in zip(all_rastertifs, masks, axs):\n",
    "    rastershow(rastertif, ax=ax)\n",
    "\n",
    "    # all labeled polygons\n",
    "    all_polygons.plot(column='class', ax=ax, facecolor='none', cmap='jet', legend=True)\n",
    "\n",
    "    # check if mask is correct\n",
    "    rastershow(rasterio.open(mask), ax=ax, alpha=0.35, cmap='Reds_r', with_bounds=True)\n"
   ]
  },
  {
   "cell_type": "code",
   "execution_count": null,
   "id": "9b3831d2-00b5-4f59-8d46-1d5a27a3660c",
   "metadata": {},
   "outputs": [],
   "source": [
    "fig, ax = plt.subplots(1, 1, figsize=(10, 6))\n",
    "# add original tiles\n",
    "for rastertif in all_rastertifs:\n",
    "    rastershow(rastertif, ax=ax)\n",
    "\n",
    "# check if mask is correct\n",
    "for mask in masks:\n",
    "    rastershow(rasterio.open(mask), ax=ax, alpha=0.35, cmap='Blues_r', with_bounds=True)\n",
    "\n",
    "# add bounding boxes to display\n",
    "for extent in all_extents:\n",
    "    rc = patches.Rectangle((extent[0], extent[1]), extent[2]-extent[0], extent[3]-extent[1],\n",
    "                           lw=2, fc='none', ec='lightgray',\n",
    "                          )\n",
    "    ax.add_patch(rc)\n",
    "\n",
    "# all labeled polygons\n",
    "all_polygons.plot(column='tile', ax=ax, facecolor='none', edgecolor='cyan')"
   ]
  },
  {
   "cell_type": "code",
   "execution_count": null,
   "id": "c3a41426-671c-48a8-9ce0-232fb8219f1e",
   "metadata": {},
   "outputs": [],
   "source": [
    "fig, ax = plt.subplots(1, 1, figsize=(10, 6))\n",
    "\n",
    "# all labeled polygons\n",
    "all_polygons.plot(column='class', ax=ax, facecolor='none', edgecolor='cyan')"
   ]
  },
  {
   "cell_type": "markdown",
   "id": "d527d63a-2bb0-4116-a790-dcd7b17fc4ca",
   "metadata": {},
   "source": [
    "#### Sanity check for outlines\n",
    "\n",
    "The outlines are a bit hard to see in the overlay, so we perform the sanity check by comparing them against the masks. The outlines (red) should match the polygons (blue)."
   ]
  },
  {
   "cell_type": "code",
   "execution_count": null,
   "id": "3a9d0dae-9c32-4e48-9005-4c335eac597a",
   "metadata": {},
   "outputs": [],
   "source": [
    "fig, ax = plt.subplots(1, 1, sharex=True, sharey=True)\n",
    "\n",
    "k = 7 # tile index\n",
    "\n",
    "mask = rasterio.open(masks[k]).read()\n",
    "ax.imshow(mask.squeeze(), cmap='Blues')\n",
    "\n",
    "outline = rasterio.open(outlines[k]).read()\n",
    "ax.imshow(outline.squeeze(), cmap='Reds', alpha=0.5)\n",
    "\n",
    "fig.tight_layout()\n",
    "plt.show()"
   ]
  },
  {
   "cell_type": "markdown",
   "id": "6004dfb7-b66d-412d-883e-1631155f8387",
   "metadata": {},
   "source": [
    "#### Sanity check for distance transforms\n",
    "\n",
    "The distance transforms denotes the distance of a point within the polygon to its boundary. Again, the shapes should match. The heatmap colors inside the polygons should reflect the distance to the boundary."
   ]
  },
  {
   "cell_type": "code",
   "execution_count": null,
   "id": "cd79e0a1-6c04-4ce3-b900-34361112f128",
   "metadata": {},
   "outputs": [],
   "source": [
    "fig, ax = plt.subplots(1, 1, sharex=True, sharey=True)\n",
    "\n",
    "mask = rasterio.open(masks[k]).read()\n",
    "ax.imshow(mask.squeeze(), cmap='Blues')\n",
    "\n",
    "dist_trafo = rasterio.open(distance_transforms[k]).read()\n",
    "\n",
    "ax.imshow(dist_trafo.squeeze(), cmap='magma', alpha=0.5)\n",
    "\n",
    "fig.tight_layout()\n",
    "plt.show()"
   ]
  },
  {
   "cell_type": "code",
   "execution_count": null,
   "id": "4fa8d0ae-21ce-4048-9525-52e6b5da242e",
   "metadata": {},
   "outputs": [],
   "source": []
  },
  {
   "cell_type": "code",
   "execution_count": null,
   "id": "cefb3d37-be3c-489d-a23c-48228fe97c97",
   "metadata": {},
   "outputs": [],
   "source": []
  },
  {
   "cell_type": "code",
   "execution_count": null,
   "id": "9949bd35-2425-4e41-b9c1-ba2a557fb596",
   "metadata": {},
   "outputs": [],
   "source": []
  }
 ],
 "metadata": {
  "kernelspec": {
   "display_name": "UFZ DeepTree",
   "language": "python",
   "name": "deep_tree"
  },
  "language_info": {
   "codemirror_mode": {
    "name": "ipython",
    "version": 3
   },
   "file_extension": ".py",
   "mimetype": "text/x-python",
   "name": "python",
   "nbconvert_exporter": "python",
   "pygments_lexer": "ipython3",
   "version": "3.12.5"
  }
 },
 "nbformat": 4,
 "nbformat_minor": 5
}
