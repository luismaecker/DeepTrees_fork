{
 "cells": [
  {
   "cell_type": "code",
   "execution_count": 1,
   "id": "8f1bb952-4da6-483e-ba52-539fb0a23c42",
   "metadata": {},
   "outputs": [],
   "source": [
    "import os\n",
    "import sqlite3\n",
    "import numpy as np\n",
    "import pandas as pd\n",
    "import geopandas as gpd\n",
    "from shapely import Point, Polygon\n",
    "from matplotlib import pyplot as plt\n",
    "import seaborn as sns"
   ]
  },
  {
   "cell_type": "code",
   "execution_count": 2,
   "id": "24b81f98-4a00-4c0d-862e-dbbcd5d2e0c7",
   "metadata": {},
   "outputs": [],
   "source": [
    "sns.set_style('whitegrid')"
   ]
  },
  {
   "cell_type": "code",
   "execution_count": 3,
   "id": "65174a16-7895-4b36-8d5d-eef48e75da51",
   "metadata": {},
   "outputs": [],
   "source": [
    "tile_root = '/work/ka1176/shared_data/2024-ufz-deeptree/Halle-DOP20-2022/'\n",
    "sqlite_root = '/work/ka1176/shared_data/2024-ufz-deeptree/Halle-out-TCD-pretrained-rgbi/'"
   ]
  },
  {
   "cell_type": "code",
   "execution_count": 4,
   "id": "686b8533-9d71-4623-a8f2-f380de124fd1",
   "metadata": {},
   "outputs": [],
   "source": [
    "rgbi_tiles = np.sort([tile for tile in os.listdir(tile_root) if tile.startswith('dop20rgbi') and tile.endswith('.tif')])"
   ]
  },
  {
   "cell_type": "code",
   "execution_count": 5,
   "id": "b8d94121-a00f-4fe1-9d5e-ed853a710676",
   "metadata": {},
   "outputs": [
    {
     "name": "stdout",
     "output_type": "stream",
     "text": [
      "Total number of tiles: 76\n",
      "Expected number of output sqlite databases: 380\n",
      "Total number of output sqlite databases: 380\n"
     ]
    }
   ],
   "source": [
    "print('Total number of tiles:', len(rgbi_tiles))\n",
    "print('Expected number of output sqlite databases:', len(rgbi_tiles) * 5) # 5 pretrained models\n",
    "print('Total number of output sqlite databases:', len([db for db in os.listdir(sqlite_root) if db.endswith('.sqlite')]))\n"
   ]
  },
  {
   "cell_type": "code",
   "execution_count": 6,
   "id": "fc5988fd-51d5-483c-acb4-baf7a8a68150",
   "metadata": {},
   "outputs": [],
   "source": [
    "def geoframe_from_sqlite(dbroot, tile=None, model_id=None):\n",
    "    '''\n",
    "    Create a GeoDataFrame with the geometries in the SQLITE database\n",
    "\n",
    "    Arguments:\n",
    "    dbroot (str): path to SQLITE database root directory\n",
    "    tile (str): TIF filename\n",
    "    model_id (int): pretrained model ID\n",
    "    '''\n",
    "\n",
    "    tile = tile.replace('.tif','')\n",
    "    dbfile = os.path.join(dbroot, f'{tile}_{model_id}.sqlite')\n",
    "    col = f'{tile}_{model_id}'\n",
    "\n",
    "    if not os.path.exists(dbfile):\n",
    "        print('No such file', dbfile)\n",
    "        return None\n",
    "    \n",
    "    con = sqlite3.connect(dbfile)\n",
    "    cur = con.cursor()\n",
    "    try:\n",
    "        df = pd.read_sql_query(f\"SELECT * from {col}\", con)\n",
    "    except:\n",
    "        print('Query failed for file', dbfile)\n",
    "        return None\n",
    "        \n",
    "    con.close()\n",
    "    geo = gpd.GeoSeries.from_wkb(df['GEOMETRY']).to_frame(f'geometry')\n",
    "    geo['tile'] = tile\n",
    "    geo['model_id'] = model_id\n",
    "\n",
    "    return geo"
   ]
  },
  {
   "cell_type": "markdown",
   "id": "f6a3086f-19be-4f02-a1e2-c489c6a7fa8d",
   "metadata": {},
   "source": [
    "Get all polygons for all tiles and pretrained models"
   ]
  },
  {
   "cell_type": "code",
   "execution_count": 7,
   "id": "bf35cb40-f651-4090-a196-1aa89a9f21fe",
   "metadata": {},
   "outputs": [
    {
     "name": "stdout",
     "output_type": "stream",
     "text": [
      "No such file /work/ka1176/shared_data/2024-ufz-deeptree/Halle-out-TCD-pretrained-rgbi/dop20rgbi_32_700_5708_2_st_2022_2.sqlite\n",
      "No such file /work/ka1176/shared_data/2024-ufz-deeptree/Halle-out-TCD-pretrained-rgbi/dop20rgbi_32_704_5710_2_st_2022_rgb_0.sqlite\n",
      "No such file /work/ka1176/shared_data/2024-ufz-deeptree/Halle-out-TCD-pretrained-rgbi/dop20rgbi_32_704_5710_2_st_2022_rgb_1.sqlite\n",
      "No such file /work/ka1176/shared_data/2024-ufz-deeptree/Halle-out-TCD-pretrained-rgbi/dop20rgbi_32_704_5710_2_st_2022_rgb_2.sqlite\n",
      "No such file /work/ka1176/shared_data/2024-ufz-deeptree/Halle-out-TCD-pretrained-rgbi/dop20rgbi_32_704_5710_2_st_2022_rgb_3.sqlite\n",
      "No such file /work/ka1176/shared_data/2024-ufz-deeptree/Halle-out-TCD-pretrained-rgbi/dop20rgbi_32_704_5710_2_st_2022_rgb_4.sqlite\n",
      "CPU times: user 7.86 s, sys: 2.57 s, total: 10.4 s\n",
      "Wall time: 11.2 s\n"
     ]
    }
   ],
   "source": [
    "%%time\n",
    "geoframes = []\n",
    "for i, tile in enumerate(rgbi_tiles):\n",
    "    for model_id in [0, 1, 2, 3, 4]:\n",
    "        gf = geoframe_from_sqlite(sqlite_root, tile=tile, model_id=model_id)\n",
    "        if gf is not None:\n",
    "            geoframes.append(gf)\n",
    "\n",
    "geoframe = pd.concat(geoframes)\n",
    "geoframe.crs = 25832 # coordinate system"
   ]
  },
  {
   "cell_type": "markdown",
   "id": "e67950bb-42ad-431f-a8b8-270a98567490",
   "metadata": {},
   "source": [
    "How many trees were identified by each model"
   ]
  },
  {
   "cell_type": "code",
   "execution_count": 8,
   "id": "e425d0b6-70ce-4f19-a5d6-7711e6bd5aea",
   "metadata": {},
   "outputs": [
    {
     "data": {
      "image/png": "[encoded data removed]",
      "text/plain": [
       "<Figure size 640x480 with 1 Axes>"
      ]
     },
     "metadata": {},
     "output_type": "display_data"
    }
   ],
   "source": [
    "df = geoframe['model_id'].value_counts().to_frame().reset_index().sort_values('model_id')\n",
    "sns.barplot(data=df, x='model_id', y='count')\n",
    "plt.show()"
   ]
  },
  {
   "cell_type": "markdown",
   "id": "63b86592-fe49-4b3b-a7dd-59e7a7f0a4ad",
   "metadata": {},
   "source": [
    "Ground truth: Halle Baumkataster"
   ]
  },
  {
   "cell_type": "code",
   "execution_count": 9,
   "id": "0bb3b657-fb2b-4fa5-92ba-1a028629ac21",
   "metadata": {},
   "outputs": [],
   "source": [
    "ground_truth = gpd.read_file('/work/ka1176/shared_data/2024-ufz-deeptree/halle-baumkataster/itc005211130105323_point.shp')\n",
    "ground_truth = ground_truth.to_crs(epsg=25832) # need this in the same coordinate system"
   ]
  },
  {
   "cell_type": "markdown",
   "id": "dc9c1e0c-8d2e-4e5e-9d94-5912b660c264",
   "metadata": {},
   "source": [
    "Positive samples for each model"
   ]
  },
  {
   "cell_type": "code",
   "execution_count": 10,
   "id": "9881ac09-3abc-4920-ad25-6578d656c9b1",
   "metadata": {},
   "outputs": [
    {
     "name": "stdout",
     "output_type": "stream",
     "text": [
      "Model 0: found 22477 / 40011 trees (56.18%)\n",
      "Model 1: found 23664 / 40011 trees (59.14%)\n",
      "Model 2: found 29929 / 40011 trees (74.80%)\n",
      "Model 3: found 26593 / 40011 trees (66.46%)\n",
      "Model 4: found 22248 / 40011 trees (55.60%)\n"
     ]
    }
   ],
   "source": [
    "#intersection = geoframe.sjoin(ground_truth)\n",
    "#intersection_rows = len(intersection)\n",
    "#ground_truth_rows = len(ground_truth)\n",
    "#print(f'All models combined: found {intersection_rows} / {ground_truth_rows} trees ({100*intersection_rows/ground_truth_rows:.2f}%)')\n",
    "\n",
    "for model_id in list(range(5)):\n",
    "    intersection = geoframe.query('model_id==@model_id').sjoin(ground_truth)\n",
    "    intersection_rows = len(intersection)\n",
    "    ground_truth_rows = len(ground_truth)\n",
    "    print(f'Model {model_id}: found {intersection_rows} / {ground_truth_rows} trees ({100*intersection_rows/ground_truth_rows:.2f}%)')"
   ]
  },
  {
   "cell_type": "markdown",
   "id": "63d54fad-d402-450e-8c17-ae749bd4d6d8",
   "metadata": {},
   "source": [
    "Total tree-covered area"
   ]
  },
  {
   "cell_type": "code",
   "execution_count": 11,
   "id": "fafa5225-ad3f-41db-b154-cdabae6e622b",
   "metadata": {},
   "outputs": [
    {
     "name": "stdout",
     "output_type": "stream",
     "text": [
      "Model 0: Total area = 3.86e+07 [a.u.]\n",
      "Model 1: Total area = 3.95e+07 [a.u.]\n",
      "Model 2: Total area = 4.63e+07 [a.u.]\n",
      "Model 3: Total area = 4.64e+07 [a.u.]\n",
      "Model 4: Total area = 3.75e+07 [a.u.]\n"
     ]
    }
   ],
   "source": [
    "for model_id in list(range(5)):\n",
    "    area = geoframe.query('model_id==@model_id').area.sum()\n",
    "    print(f'Model {model_id}: Total area = {area:.2e} [a.u.]')"
   ]
  },
  {
   "cell_type": "markdown",
   "id": "d755baa1-11dd-40f4-a5b6-645452047fc3",
   "metadata": {},
   "source": [
    "Union of all models\n",
    "--\n",
    "This is taking very long, start with a single tile"
   ]
  },
  {
   "cell_type": "code",
   "execution_count": 12,
   "id": "531acb73-c3e0-4b34-8ceb-3f774312c245",
   "metadata": {},
   "outputs": [
    {
     "name": "stdout",
     "output_type": "stream",
     "text": [
      "dop20rgbi_32_706_5702_2_st_2022\n"
     ]
    }
   ],
   "source": [
    "tile = geoframe['tile'].unique()[40]\n",
    "print(tile)\n",
    "tileframe = geoframe.query('tile==@tile')\n",
    "zoom_box = {'left':tileframe.bounds['minx'].min(), \n",
    "            'right':tileframe.bounds['maxx'].max(), \n",
    "            'bottom':tileframe.bounds['miny'].min(), \n",
    "            'top':tileframe.bounds['maxy'].max()}\n",
    "zbox = Polygon( (Point(zoom_box['left'], zoom_box['bottom']), Point(zoom_box['right'], zoom_box['bottom']), Point(zoom_box['right'], zoom_box['top']), Point(zoom_box['left'], zoom_box['top']), ) )"
   ]
  },
  {
   "cell_type": "code",
   "execution_count": 13,
   "id": "44cc9e7c-7c21-4a52-b594-1d7dd53c3e89",
   "metadata": {},
   "outputs": [
    {
     "data": {
      "text/html": [
       "<div>\n",
       "<style scoped>\n",
       "    .dataframe tbody tr th:only-of-type {\n",
       "        vertical-align: middle;\n",
       "    }\n",
       "\n",
       "    .dataframe tbody tr th {\n",
       "        vertical-align: top;\n",
       "    }\n",
       "\n",
       "    .dataframe thead th {\n",
       "        text-align: right;\n",
       "    }\n",
       "</style>\n",
       "<table border=\"1\" class=\"dataframe\">\n",
       "  <thead>\n",
       "    <tr style=\"text-align: right;\">\n",
       "      <th></th>\n",
       "      <th>model_id</th>\n",
       "      <th>geometry</th>\n",
       "      <th>tile</th>\n",
       "    </tr>\n",
       "  </thead>\n",
       "  <tbody>\n",
       "    <tr>\n",
       "      <th>0</th>\n",
       "      <td>0</td>\n",
       "      <td>MULTIPOLYGON (((706035.3 5702026.7, 706035.5 5...</td>\n",
       "      <td>dop20rgbi_32_706_5702_2_st_2022</td>\n",
       "    </tr>\n",
       "    <tr>\n",
       "      <th>1</th>\n",
       "      <td>1</td>\n",
       "      <td>MULTIPOLYGON (((706017.9 5702028.7, 706019.1 5...</td>\n",
       "      <td>dop20rgbi_32_706_5702_2_st_2022</td>\n",
       "    </tr>\n",
       "    <tr>\n",
       "      <th>2</th>\n",
       "      <td>2</td>\n",
       "      <td>MULTIPOLYGON (((706022.9 5702024.1, 706023.3 5...</td>\n",
       "      <td>dop20rgbi_32_706_5702_2_st_2022</td>\n",
       "    </tr>\n",
       "    <tr>\n",
       "      <th>3</th>\n",
       "      <td>3</td>\n",
       "      <td>MULTIPOLYGON (((706029.9 5702026.1, 706029.7 5...</td>\n",
       "      <td>dop20rgbi_32_706_5702_2_st_2022</td>\n",
       "    </tr>\n",
       "    <tr>\n",
       "      <th>4</th>\n",
       "      <td>4</td>\n",
       "      <td>MULTIPOLYGON (((706042.1 5702012.3, 706042.5 5...</td>\n",
       "      <td>dop20rgbi_32_706_5702_2_st_2022</td>\n",
       "    </tr>\n",
       "  </tbody>\n",
       "</table>\n",
       "</div>"
      ],
      "text/plain": [
       "   model_id                                           geometry  \\\n",
       "0         0  MULTIPOLYGON (((706035.3 5702026.7, 706035.5 5...   \n",
       "1         1  MULTIPOLYGON (((706017.9 5702028.7, 706019.1 5...   \n",
       "2         2  MULTIPOLYGON (((706022.9 5702024.1, 706023.3 5...   \n",
       "3         3  MULTIPOLYGON (((706029.9 5702026.1, 706029.7 5...   \n",
       "4         4  MULTIPOLYGON (((706042.1 5702012.3, 706042.5 5...   \n",
       "\n",
       "                              tile  \n",
       "0  dop20rgbi_32_706_5702_2_st_2022  \n",
       "1  dop20rgbi_32_706_5702_2_st_2022  \n",
       "2  dop20rgbi_32_706_5702_2_st_2022  \n",
       "3  dop20rgbi_32_706_5702_2_st_2022  \n",
       "4  dop20rgbi_32_706_5702_2_st_2022  "
      ]
     },
     "execution_count": 13,
     "metadata": {},
     "output_type": "execute_result"
    }
   ],
   "source": [
    "aggregated = tileframe.dissolve(by='model_id').reset_index()\n",
    "aggregated"
   ]
  },
  {
   "cell_type": "code",
   "execution_count": 14,
   "id": "eb6b7772-74c1-4a42-a3e3-c0b319ff9f96",
   "metadata": {},
   "outputs": [],
   "source": [
    "n_points = 100000\n",
    "sample_points = gpd.GeoDataFrame(dict(geometry=zbox), index=[0], crs=geoframe.crs).sample_points(n_points).explode(index_parts=True).to_frame('geometry').reset_index(names=['dummy', 'point_index'])"
   ]
  },
  {
   "cell_type": "code",
   "execution_count": 15,
   "id": "ca81dd0d-722b-4d65-9858-90cea9d1028e",
   "metadata": {},
   "outputs": [],
   "source": [
    "all_tree_points = aggregated.sjoin(sample_points, how='right').dropna()"
   ]
  },
  {
   "cell_type": "code",
   "execution_count": 16,
   "id": "252df7ec-5357-47ba-a263-32f544a53039",
   "metadata": {},
   "outputs": [
    {
     "data": {
      "text/html": [
       "<div>\n",
       "<style scoped>\n",
       "    .dataframe tbody tr th:only-of-type {\n",
       "        vertical-align: middle;\n",
       "    }\n",
       "\n",
       "    .dataframe tbody tr th {\n",
       "        vertical-align: top;\n",
       "    }\n",
       "\n",
       "    .dataframe thead th {\n",
       "        text-align: right;\n",
       "    }\n",
       "</style>\n",
       "<table border=\"1\" class=\"dataframe\">\n",
       "  <thead>\n",
       "    <tr style=\"text-align: right;\">\n",
       "      <th></th>\n",
       "      <th>index_left</th>\n",
       "      <th>model_id</th>\n",
       "      <th>tile</th>\n",
       "      <th>dummy</th>\n",
       "      <th>point_index</th>\n",
       "      <th>geometry</th>\n",
       "      <th>occurrence</th>\n",
       "    </tr>\n",
       "  </thead>\n",
       "  <tbody>\n",
       "    <tr>\n",
       "      <th>10</th>\n",
       "      <td>1.0</td>\n",
       "      <td>1.0</td>\n",
       "      <td>dop20rgbi_32_706_5702_2_st_2022</td>\n",
       "      <td>0</td>\n",
       "      <td>10</td>\n",
       "      <td>POINT (706000.337 5703199.29)</td>\n",
       "      <td>4</td>\n",
       "    </tr>\n",
       "    <tr>\n",
       "      <th>10</th>\n",
       "      <td>2.0</td>\n",
       "      <td>2.0</td>\n",
       "      <td>dop20rgbi_32_706_5702_2_st_2022</td>\n",
       "      <td>0</td>\n",
       "      <td>10</td>\n",
       "      <td>POINT (706000.337 5703199.29)</td>\n",
       "      <td>4</td>\n",
       "    </tr>\n",
       "    <tr>\n",
       "      <th>10</th>\n",
       "      <td>3.0</td>\n",
       "      <td>3.0</td>\n",
       "      <td>dop20rgbi_32_706_5702_2_st_2022</td>\n",
       "      <td>0</td>\n",
       "      <td>10</td>\n",
       "      <td>POINT (706000.337 5703199.29)</td>\n",
       "      <td>4</td>\n",
       "    </tr>\n",
       "    <tr>\n",
       "      <th>10</th>\n",
       "      <td>4.0</td>\n",
       "      <td>4.0</td>\n",
       "      <td>dop20rgbi_32_706_5702_2_st_2022</td>\n",
       "      <td>0</td>\n",
       "      <td>10</td>\n",
       "      <td>POINT (706000.337 5703199.29)</td>\n",
       "      <td>4</td>\n",
       "    </tr>\n",
       "    <tr>\n",
       "      <th>11</th>\n",
       "      <td>2.0</td>\n",
       "      <td>2.0</td>\n",
       "      <td>dop20rgbi_32_706_5702_2_st_2022</td>\n",
       "      <td>0</td>\n",
       "      <td>11</td>\n",
       "      <td>POINT (706000.337 5703682.124)</td>\n",
       "      <td>1</td>\n",
       "    </tr>\n",
       "  </tbody>\n",
       "</table>\n",
       "</div>"
      ],
      "text/plain": [
       "    index_left  model_id                             tile  dummy  point_index  \\\n",
       "10         1.0       1.0  dop20rgbi_32_706_5702_2_st_2022      0           10   \n",
       "10         2.0       2.0  dop20rgbi_32_706_5702_2_st_2022      0           10   \n",
       "10         3.0       3.0  dop20rgbi_32_706_5702_2_st_2022      0           10   \n",
       "10         4.0       4.0  dop20rgbi_32_706_5702_2_st_2022      0           10   \n",
       "11         2.0       2.0  dop20rgbi_32_706_5702_2_st_2022      0           11   \n",
       "\n",
       "                          geometry  occurrence  \n",
       "10   POINT (706000.337 5703199.29)           4  \n",
       "10   POINT (706000.337 5703199.29)           4  \n",
       "10   POINT (706000.337 5703199.29)           4  \n",
       "10   POINT (706000.337 5703199.29)           4  \n",
       "11  POINT (706000.337 5703682.124)           1  "
      ]
     },
     "execution_count": 16,
     "metadata": {},
     "output_type": "execute_result"
    }
   ],
   "source": [
    "all_tree_points['occurrence'] = all_tree_points.groupby('point_index')['point_index'].transform('size')\n",
    "all_tree_points.head()"
   ]
  },
  {
   "cell_type": "code",
   "execution_count": 17,
   "id": "93f217df-86ae-456f-893f-3a7164bc6b80",
   "metadata": {},
   "outputs": [
    {
     "data": {
      "image/png": "[encoded data removed]",
      "text/plain": [
       "<Figure size 640x480 with 1 Axes>"
      ]
     },
     "metadata": {},
     "output_type": "display_data"
    }
   ],
   "source": [
    "fig, ax = plt.subplots(1, 1)\n",
    "tmp = all_tree_points['occurrence'].value_counts().to_frame().reset_index()\n",
    "tmp = pd.concat([tmp, pd.DataFrame(dict(occurrence=0, count=n_points - len(all_tree_points['point_index'].unique())), index=[0])])\n",
    "tmp['count'] = tmp['count'] / tmp['count'].max()\n",
    "sns.barplot(data=tmp, x='occurrence', y='count')\n",
    "ax.set_xlabel('Number of models that predicted this point to be a tree')\n",
    "ax.set_ylabel('Normalized count')\n",
    "plt.show()"
   ]
  },
  {
   "cell_type": "markdown",
   "id": "38b5d966-b360-403f-b5d4-34228c7d586f",
   "metadata": {},
   "source": [
    "Density map\n",
    "- select points\n",
    "- in how many polygons is this point contained?\n",
    "- yields fraction"
   ]
  },
  {
   "cell_type": "markdown",
   "id": "4ff19c8f-01a1-4773-af91-39da265081a9",
   "metadata": {},
   "source": [
    "Visualize one tile"
   ]
  },
  {
   "cell_type": "code",
   "execution_count": null,
   "id": "e20227a1-26be-46d1-9fab-dcc89ff2acba",
   "metadata": {},
   "outputs": [],
   "source": []
  },
  {
   "cell_type": "code",
   "execution_count": null,
   "id": "ed785597-178e-4361-bfca-24e1ac0da749",
   "metadata": {},
   "outputs": [],
   "source": []
  }
 ],
 "metadata": {
  "kernelspec": {
   "display_name": "UFZ DeepTree",
   "language": "python",
   "name": "deep_tree"
  },
  "language_info": {
   "codemirror_mode": {
    "name": "ipython",
    "version": 3
   },
   "file_extension": ".py",
   "mimetype": "text/x-python",
   "name": "python",
   "nbconvert_exporter": "python",
   "pygments_lexer": "ipython3",
   "version": "3.12.5"
  }
 },
 "nbformat": 4,
 "nbformat_minor": 5
}
