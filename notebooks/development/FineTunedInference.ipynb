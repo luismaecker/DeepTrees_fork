{
 "cells": [
  {
   "cell_type": "code",
   "execution_count": 1,
   "id": "6155d17e-7c01-4ccb-ae6a-05f955318098",
   "metadata": {},
   "outputs": [],
   "source": [
    "import rasterio\n",
    "from rasterio.plot import show as rastershow\n",
    "from rasterio import mask\n",
    "\n",
    "import sqlite3\n",
    "import pandas as pd\n",
    "import geopandas as gpd\n",
    "import os\n",
    "\n",
    "from matplotlib import pyplot as plt\n",
    "from shapely.geometry import Point, Polygon, box\n",
    "import shapely"
   ]
  },
  {
   "cell_type": "markdown",
   "id": "595766cd-6952-4b1c-bdb9-194239bd086c",
   "metadata": {},
   "source": [
    "# Check finetuned polygons\n",
    "\n",
    "A quick check to see if the generated polygons match expectations. Comparing the inference on a selected tile with \n",
    "\n",
    "- reference inference run (k=0)\n",
    "- pretrained model (k=0)\n",
    "- finetuned model (from k=0)\n",
    "\n",
    "The results from reference inference and pretrained model should match!"
   ]
  },
  {
   "cell_type": "code",
   "execution_count": 10,
   "id": "08ab05ce-8845-42ca-9802-99baddc4183f",
   "metadata": {},
   "outputs": [],
   "source": [
    "test_tile = '/work/ka1176/shared_data/2024-ufz-deeptree/example_tiles/LVermGeo_DOP20/dop20rgbi_32_702_5706_2_st_2022.tif'\n",
    "\n",
    "# This is the polygon frame that was generated in the first inference run\n",
    "reference_sqlite = '/work/ka1176/shared_data/2024-ufz-deeptree/Halle-out-TCD-pretrained-rgbi/dop20rgbi_32_702_5706_2_st_2022_0.sqlite'\n",
    "\n",
    "# This is the pretrained model\n",
    "#pretrained_sqlite = '/work/ka1176/caroline/gitlab/TreeCrownDelineation/results/inference_halle/2024-09-20_15-04-58/test.sqlite'\n",
    "pretrained_sqlite = '/work/ka1176/caroline/gitlab/TreeCrownDelineation/results/inference_halle/2024-10-23_14-42-33/test.sqlite'\n",
    "\n",
    "# This is the model finetuned on Halle data\n",
    "#finetuned_sqlite = '/work/ka1176/caroline/gitlab/TreeCrownDelineation/results/inference_halle/2024-09-23_16-35-37/test.sqlite'\n",
    "finetuned_sqlite = '/work/ka1176/caroline/gitlab/TreeCrownDelineation/results/inference_halle/2024-10-23_16-14-04/test.sqlite'"
   ]
  },
  {
   "cell_type": "code",
   "execution_count": 11,
   "id": "b582bcf4-e92b-4327-8951-c962f960f610",
   "metadata": {},
   "outputs": [],
   "source": [
    "def geoframe_from_sqlite(dbfile, col='test'):\n",
    "    '''\n",
    "    Create a GeoDataFrame with the geometries in the SQLITE database\n",
    "\n",
    "    Arguments:\n",
    "    dbfile (str): path to SQLITE database \n",
    "    '''\n",
    "\n",
    "    if not os.path.exists(dbfile):\n",
    "        print('No such file', dbfile)\n",
    "        return None\n",
    "    \n",
    "    con = sqlite3.connect(dbfile)\n",
    "    cur = con.cursor()\n",
    "    try:\n",
    "        df = pd.read_sql_query(f\"SELECT * from {col}\", con)\n",
    "    except:\n",
    "        print('Query failed for file', dbfile)\n",
    "        return None\n",
    "        \n",
    "    con.close()\n",
    "    geo = gpd.GeoSeries.from_wkb(df['GEOMETRY']).to_frame(f'geometry')\n",
    "\n",
    "    return geo"
   ]
  },
  {
   "cell_type": "code",
   "execution_count": 12,
   "id": "4caa47ef-4dc8-452d-8859-2ed47e76cc92",
   "metadata": {},
   "outputs": [],
   "source": [
    "reference_polygons = geoframe_from_sqlite(reference_sqlite, col='dop20rgbi_32_702_5706_2_st_2022_0')\n",
    "pretrained_polygons = geoframe_from_sqlite(pretrained_sqlite, col='test')\n",
    "finetuned_polygons = geoframe_from_sqlite(finetuned_sqlite)\n",
    "\n",
    "rastertif = rasterio.open(test_tile)"
   ]
  },
  {
   "cell_type": "code",
   "execution_count": 13,
   "id": "5c0a81c1-3359-4eab-9ad9-94d142b7f718",
   "metadata": {},
   "outputs": [],
   "source": [
    "# zoom in on a smaller region for better visibility\n",
    "zoom_box = {'left':703000, 'right':703250, 'bottom':5706000, 'top':5706250}\n",
    "\n",
    "zbox = Polygon( (Point(zoom_box['left'], zoom_box['bottom']), Point(zoom_box['right'], zoom_box['bottom']), Point(zoom_box['right'], zoom_box['top']), Point(zoom_box['left'], zoom_box['top']), ) )\n",
    "zoom_reference = reference_polygons[reference_polygons.within(zbox)]\n",
    "zoom_pretrained = pretrained_polygons[pretrained_polygons.within(zbox)]\n",
    "zoom_finetuned = finetuned_polygons[finetuned_polygons.within(zbox)]\n",
    "zoom_tif, _ = rasterio.mask.mask(rastertif, [zbox], crop=True)"
   ]
  },
  {
   "cell_type": "code",
   "execution_count": null,
   "id": "2d8a6d09-1842-4264-8391-e8beecda9136",
   "metadata": {},
   "outputs": [],
   "source": [
    "fig, ax = plt.subplots(1, 4, figsize=(20, 7))\n",
    "ax[0].imshow(zoom_tif[:3].swapaxes(0,1).swapaxes(1,2), extent=[x[1] for x in zoom_box.items()])\n",
    "ax[1].imshow(zoom_tif[:3].swapaxes(0,1).swapaxes(1,2), extent=[x[1] for x in zoom_box.items()])\n",
    "zoom_reference.plot(ax=ax[1], color='magenta', alpha=0.5)\n",
    "\n",
    "ax[2].imshow(zoom_tif[:3].swapaxes(0,1).swapaxes(1,2), extent=[x[1] for x in zoom_box.items()])\n",
    "zoom_pretrained.plot(ax=ax[2], color='blue', alpha=0.5)\n",
    "\n",
    "ax[3].imshow(zoom_tif[:3].swapaxes(0,1).swapaxes(1,2), extent=[x[1] for x in zoom_box.items()])\n",
    "zoom_finetuned.plot(ax=ax[3], color='red', alpha=0.5)\n",
    "\n",
    "ax[0].set_title('RGB Image')\n",
    "ax[1].set_title('Reference inference run')\n",
    "\n",
    "ax[2].set_title('Pretrained TCD')\n",
    "ax[3].set_title('Finetuned TCD on Halle tiles')\n",
    "\n",
    "plt.show()"
   ]
  },
  {
   "cell_type": "code",
   "execution_count": 7,
   "id": "7567607f-348a-4609-bd78-5cd1b8b400c3",
   "metadata": {},
   "outputs": [],
   "source": [
    "# Show intersection and union\n",
    "all_pretrained = zoom_pretrained.union_all()\n",
    "all_finetuned = zoom_finetuned.union_all()"
   ]
  },
  {
   "cell_type": "code",
   "execution_count": 8,
   "id": "e22c42ca-399f-43ee-8e68-5f1d76cd898a",
   "metadata": {},
   "outputs": [],
   "source": [
    "geom_inters = shapely.intersection(all_pretrained, all_finetuned)\n",
    "geom_diff   = shapely.symmetric_difference(all_pretrained, all_finetuned)"
   ]
  },
  {
   "cell_type": "code",
   "execution_count": null,
   "id": "a7678c6e-3ae6-4368-bea4-3b47419d0fd9",
   "metadata": {},
   "outputs": [],
   "source": [
    "tmp = gpd.GeoDataFrame(dict(geometry=[geom_inters, geom_diff], label=['Union', 'Difference']))\n",
    "tmp.plot(column='label', legend=True, cmap='RdYlBu')\n",
    "plt.show()"
   ]
  },
  {
   "cell_type": "code",
   "execution_count": null,
   "id": "5675be32-9093-41c8-acdc-0eb024cc202c",
   "metadata": {},
   "outputs": [],
   "source": []
  },
  {
   "cell_type": "code",
   "execution_count": null,
   "id": "031d7ea6-7078-4934-8c9c-7a4b89982b1c",
   "metadata": {},
   "outputs": [],
   "source": []
  }
 ],
 "metadata": {
  "kernelspec": {
   "display_name": "UFZ DeepTree (v2)",
   "language": "python",
   "name": "deeptree2"
  },
  "language_info": {
   "codemirror_mode": {
    "name": "ipython",
    "version": 3
   },
   "file_extension": ".py",
   "mimetype": "text/x-python",
   "name": "python",
   "nbconvert_exporter": "python",
   "pygments_lexer": "ipython3",
   "version": "3.12.5"
  }
 },
 "nbformat": 4,
 "nbformat_minor": 5
}
