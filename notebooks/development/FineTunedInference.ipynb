{
 "cells": [
  {
   "cell_type": "code",
   "execution_count": null,
   "id": "6155d17e-7c01-4ccb-ae6a-05f955318098",
   "metadata": {},
   "outputs": [],
   "source": [
    "import rasterio\n",
    "from rasterio.plot import show as rastershow\n",
    "import sqlite3\n",
    "import pandas as pd\n",
    "import geopandas as gpd\n",
    "import os\n",
    "\n",
    "from matplotlib import pyplot as plt"
   ]
  },
  {
   "cell_type": "markdown",
   "id": "595766cd-6952-4b1c-bdb9-194239bd086c",
   "metadata": {},
   "source": [
    "A quick check to see if the generated polygons match expectations (this was without any finetuning)"
   ]
  },
  {
   "cell_type": "code",
   "execution_count": null,
   "id": "08ab05ce-8845-42ca-9802-99baddc4183f",
   "metadata": {},
   "outputs": [],
   "source": [
    "test_tile = '/work/ka1176/shared_data/2024-ufz-deeptree/example_tiles/LVermGeo_DOP20/dop20rgbi_32_702_5706_2_st_2022.tif'\n",
    "test_sqlite = '/work/ka1176/caroline/gitlab/TreeCrownDelineation/results/inference_halle/2024-09-20_13-11-47/test.sqlite'"
   ]
  },
  {
   "cell_type": "code",
   "execution_count": null,
   "id": "b582bcf4-e92b-4327-8951-c962f960f610",
   "metadata": {},
   "outputs": [],
   "source": [
    "def geoframe_from_sqlite(dbfile, col='test'):\n",
    "    '''\n",
    "    Create a GeoDataFrame with the geometries in the SQLITE database\n",
    "\n",
    "    Arguments:\n",
    "    dbfile (str): path to SQLITE database \n",
    "    '''\n",
    "\n",
    "    if not os.path.exists(dbfile):\n",
    "        print('No such file', dbfile)\n",
    "        return None\n",
    "    \n",
    "    con = sqlite3.connect(dbfile)\n",
    "    cur = con.cursor()\n",
    "    try:\n",
    "        df = pd.read_sql_query(f\"SELECT * from {col}\", con)\n",
    "    except:\n",
    "        print('Query failed for file', dbfile)\n",
    "        return None\n",
    "        \n",
    "    con.close()\n",
    "    geo = gpd.GeoSeries.from_wkb(df['GEOMETRY']).to_frame(f'geometry')\n",
    "\n",
    "    return geo"
   ]
  },
  {
   "cell_type": "code",
   "execution_count": null,
   "id": "4caa47ef-4dc8-452d-8859-2ed47e76cc92",
   "metadata": {},
   "outputs": [],
   "source": [
    "geoframe = geoframe_from_sqlite(test_sqlite)"
   ]
  },
  {
   "cell_type": "code",
   "execution_count": null,
   "id": "57327d7c-0534-4ef1-91dd-ce25e35dd847",
   "metadata": {},
   "outputs": [],
   "source": [
    "fig, ax = plt.subplots(1, 1, figsize=(10, 10))\n",
    "rastershow(rasterio.open(test_tile), ax=ax)\n",
    "geoframe.plot(ax=ax)"
   ]
  },
  {
   "cell_type": "code",
   "execution_count": null,
   "id": "7567607f-348a-4609-bd78-5cd1b8b400c3",
   "metadata": {},
   "outputs": [],
   "source": [
    "   "
   ]
  }
 ],
 "metadata": {
  "kernelspec": {
   "display_name": "UFZ DeepTree (v2)",
   "language": "python",
   "name": "deeptree2"
  },
  "language_info": {
   "codemirror_mode": {
    "name": "ipython",
    "version": 3
   },
   "file_extension": ".py",
   "mimetype": "text/x-python",
   "name": "python",
   "nbconvert_exporter": "python",
   "pygments_lexer": "ipython3",
   "version": "3.12.5"
  }
 },
 "nbformat": 4,
 "nbformat_minor": 5
}
